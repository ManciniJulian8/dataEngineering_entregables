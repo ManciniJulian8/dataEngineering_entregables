{
 "cells": [
  {
   "cell_type": "markdown",
   "id": "2b9d8ad5-0ba7-4f10-bbc4-963a950c85fa",
   "metadata": {
    "tags": []
   },
   "source": [
    "# Entregable 1\n",
    "\n",
    "## Consigna:\n",
    "\n",
    "Script que extraiga datos de una API pública\n",
    "\n",
    "### Objetivos generales\n",
    "\n",
    "✓ Tener un código inicial que será usado\n",
    "en el proyecto final como un script ETL\n",
    "inicial.\n",
    "\n",
    "### Objetivos específicos\n",
    "\n",
    "✓ El script debería extraer datos en JSON\n",
    "y poder leer el formato en un\n",
    "diccionario de Python.\n",
    "\n",
    "✓ La entrega involucra la creación de una\n",
    "versión inicial de la tabla donde los\n",
    "datos serán cargados posteriormente."
   ]
  },
  {
   "cell_type": "markdown",
   "id": "c9ee5997-74e0-4ae9-a586-d36e2b3776be",
   "metadata": {
    "tags": []
   },
   "source": [
    "## 1) Bajar datos de una API en formato JSON\n",
    "\n",
    "Para este ejemplo voy a utilizar la API de [Datos Argentina](https://www.datos.gob.ar/)\n",
    "\n",
    "Y voy a extraer los datos de: Exportaciones de productos primarios. En millones de dólares FOB\n",
    "\n",
    "Para probar la API ir a: [API de Series de Tiempo AR: Generador de URLs](https://datosgobar.github.io/series-tiempo-ar-call-generator/)"
   ]
  },
  {
   "cell_type": "code",
   "execution_count": 12,
   "id": "40915575-fc7c-4210-aee8-129b4309b0e2",
   "metadata": {},
   "outputs": [],
   "source": [
    "import pandas as pd\n",
    "import numpy as np\n",
    "import requests\n",
    "import urllib.parse"
   ]
  },
  {
   "cell_type": "code",
   "execution_count": 1,
   "id": "2b8041f0-c750-42c3-8943-515cd0131743",
   "metadata": {
    "tags": []
   },
   "outputs": [],
   "source": [
    "def get_api_call(ids, **kwargs):\n",
    "    API_BASE_URL = \"https://apis.datos.gob.ar/series/api/\"\n",
    "    kwargs[\"ids\"] = \",\".join(ids)\n",
    "    return \"{}{}?{}\".format(API_BASE_URL, \"series\", urllib.parse.urlencode(kwargs))"
   ]
  },
  {
   "cell_type": "code",
   "execution_count": 7,
   "id": "697c682c-f3f5-4662-8a63-cd33cd34444b",
   "metadata": {
    "tags": []
   },
   "outputs": [
    {
     "name": "stdout",
     "output_type": "stream",
     "text": [
      "https://apis.datos.gob.ar/series/api/series?start_date=2000-01-01&end_date=2023-10-01&ids=74.3_IEPP_0_M_35\n"
     ]
    }
   ],
   "source": [
    "api_call = get_api_call([\"74.3_IEPP_0_M_35\"], start_date=\"2000-01-01\", end_date=\"2023-10-01\")\n",
    "print(api_call)"
   ]
  },
  {
   "cell_type": "code",
   "execution_count": 8,
   "id": "3b04e992-36f2-4e9b-9a9a-bc417426f700",
   "metadata": {
    "tags": []
   },
   "outputs": [
    {
     "name": "stdout",
     "output_type": "stream",
     "text": [
      "{'data': [['2000-01-01', 379.492374], ['2000-02-01', 371.756283], ['2000-03-01', 541.383917], ['2000-04-01', 654.577308], ['2000-05-01', 734.574431], ['2000-06-01', 577.899514], ['2000-07-01', 416.284218], ['2000-08-01', 394.59976], ['2000-09-01', 296.616722], ['2000-10-01', 282.487822], ['2000-11-01', 320.459718], ['2000-12-01', 376.05679], ['2001-01-01', 524.742868], ['2001-02-01', 443.651245], ['2001-03-01', 434.568055], ['2001-04-01', 655.217651], ['2001-05-01', 764.803589], ['2001-06-01', 649.025399], ['2001-07-01', 589.173275], ['2001-08-01', 612.551971], ['2001-09-01', 478.828023], ['2001-10-01', 278.306668], ['2001-11-01', 262.829509], ['2001-12-01', 358.849421], ['2002-01-01', 450.28883], ['2002-02-01', 368.162846], ['2002-03-01', 548.074781], ['2002-04-01', 570.455216], ['2002-05-01', 632.241809], ['2002-06-01', 531.822663], ['2002-07-01', 464.236945], ['2002-08-01', 427.001056], ['2002-09-01', 370.460765], ['2002-10-01', 279.240725], ['2002-11-01', 321.885771], ['2002-12-01', 308.703369], ['2003-01-01', 370.35349], ['2003-02-01', 428.562436], ['2003-03-01', 507.637171], ['2003-04-01', 814.762614], ['2003-05-01', 898.917291], ['2003-06-01', 909.610853], ['2003-07-01', 815.672222], ['2003-08-01', 403.893268], ['2003-09-01', 339.077156], ['2003-10-01', 319.869864], ['2003-11-01', 334.885845], ['2003-12-01', 327.786151], ['2004-01-01', 434.661098], ['2004-02-01', 415.13754], ['2004-03-01', 511.365779], ['2004-04-01', 893.276022], ['2004-05-01', 934.62311], ['2004-06-01', 639.642371], ['2004-07-01', 654.617395], ['2004-08-01', 608.9714], ['2004-09-01', 540.616568], ['2004-10-01', 318.626455], ['2004-11-01', 440.133818], ['2004-12-01', 460.325133], ['2005-01-01', 508.069267], ['2005-02-01', 500.579873], ['2005-03-01', 656.222059], ['2005-04-01', 939.068339], ['2005-05-01', 1028.903986], ['2005-06-01', 789.589027], ['2005-07-01', 831.803651], ['2005-08-01', 771.111688], ['2005-09-01', 577.067534], ['2005-10-01', 433.101699], ['2005-11-01', 363.84687], ['2005-12-01', 711.261299], ['2006-01-01', 575.224172], ['2006-02-01', 566.794717], ['2006-03-01', 704.605302], ['2006-04-01', 971.17644], ['2006-05-01', 919.834573], ['2006-06-01', 760.287073], ['2006-07-01', 629.396227], ['2006-08-01', 809.029822], ['2006-09-01', 606.191646], ['2006-10-01', 710.025985], ['2006-11-01', 685.807569], ['2006-12-01', 686.994912], ['2007-01-01', 608.6586779900001], ['2007-02-01', 640.8926523199997], ['2007-03-01', 905.2904233500002], ['2007-04-01', 1166.714030060001], ['2007-05-01', 1261.326803350001], ['2007-06-01', 1106.3930544800012], ['2007-07-01', 1123.571868290001], ['2007-08-01', 1156.2231803799998], ['2007-09-01', 1092.1052801299995], ['2007-10-01', 1196.8561865999998], ['2007-11-01', 1002.4190323500004], ['2007-12-01', 1225.1208033000005], ['2008-01-01', 1612.6778957899996], ['2008-02-01', 1181.733778989999], ['2008-03-01', 1034.26980941], ['2008-04-01', 1553.89211762]], 'count': 285, 'meta': [{'frequency': 'month', 'start_date': '2000-01-01', 'end_date': '2008-04-01'}, {'catalog': {'title': 'Datos Programación Macroeconómica'}, 'dataset': {'title': 'Intercambio Comercial Argentino', 'description': 'Intercambio Comercial Argentino en millones de dólares', 'issued': '2017-09-28', 'source': 'Instituto Nacional de Estadística y Censos (INDEC)'}, 'distribution': {'title': 'Intercambio Comercial Argentino. Valores mensuales', 'downloadURL': 'https://infra.datos.gob.ar/catalog/sspm/dataset/74/distribution/74.3/download/intercambio-comercial-argentino-mensual.csv'}, 'field': {'description': 'Exportaciones de productos primarios. En millones de dólares.', 'id': '74.3_IEPP_0_M_35', 'units': 'Millones de dólares', 'representation_mode': 'value', 'representation_mode_units': 'Millones de dólares'}}], 'params': {'start_date': '2000-01-01', 'end_date': '2023-10-01', 'ids': '74.3_IEPP_0_M_35', 'identifiers': [{'id': '74.3_IEPP_0_M_35', 'distribution': '74.3', 'dataset': '74'}]}}\n"
     ]
    }
   ],
   "source": [
    "result = requests.get(api_call).json()\n",
    "print(result)"
   ]
  },
  {
   "cell_type": "markdown",
   "id": "24ec2168-d1ba-432e-8f31-31e74d59d0df",
   "metadata": {},
   "source": [
    "## 2) Creación de dataframe a partir de la data extraída"
   ]
  },
  {
   "cell_type": "code",
   "execution_count": 15,
   "id": "c0e1a6c8-8b3a-4c23-93ee-54e46a4e301f",
   "metadata": {},
   "outputs": [],
   "source": [
    "# Tenemos una lista de diccionario\n",
    "# Entonces, podemos crear un DataFrame\n",
    "\n",
    "data = result[\"data\"]\n",
    "df_exportaciones = pd.DataFrame(data,columns=[\"date_from\", \"millones_dolares\"])"
   ]
  },
  {
   "cell_type": "code",
   "execution_count": 16,
   "id": "bebb5bc9-fc9b-4823-bfa6-cb2f0d465b2f",
   "metadata": {},
   "outputs": [
    {
     "data": {
      "text/html": [
       "<div>\n",
       "<style scoped>\n",
       "    .dataframe tbody tr th:only-of-type {\n",
       "        vertical-align: middle;\n",
       "    }\n",
       "\n",
       "    .dataframe tbody tr th {\n",
       "        vertical-align: top;\n",
       "    }\n",
       "\n",
       "    .dataframe thead th {\n",
       "        text-align: right;\n",
       "    }\n",
       "</style>\n",
       "<table border=\"1\" class=\"dataframe\">\n",
       "  <thead>\n",
       "    <tr style=\"text-align: right;\">\n",
       "      <th></th>\n",
       "      <th>date_from</th>\n",
       "      <th>millones_dolares</th>\n",
       "    </tr>\n",
       "  </thead>\n",
       "  <tbody>\n",
       "    <tr>\n",
       "      <th>0</th>\n",
       "      <td>2000-01-01</td>\n",
       "      <td>379.492374</td>\n",
       "    </tr>\n",
       "    <tr>\n",
       "      <th>1</th>\n",
       "      <td>2000-02-01</td>\n",
       "      <td>371.756283</td>\n",
       "    </tr>\n",
       "    <tr>\n",
       "      <th>2</th>\n",
       "      <td>2000-03-01</td>\n",
       "      <td>541.383917</td>\n",
       "    </tr>\n",
       "    <tr>\n",
       "      <th>3</th>\n",
       "      <td>2000-04-01</td>\n",
       "      <td>654.577308</td>\n",
       "    </tr>\n",
       "    <tr>\n",
       "      <th>4</th>\n",
       "      <td>2000-05-01</td>\n",
       "      <td>734.574431</td>\n",
       "    </tr>\n",
       "  </tbody>\n",
       "</table>\n",
       "</div>"
      ],
      "text/plain": [
       "    date_from  millones_dolares\n",
       "0  2000-01-01        379.492374\n",
       "1  2000-02-01        371.756283\n",
       "2  2000-03-01        541.383917\n",
       "3  2000-04-01        654.577308\n",
       "4  2000-05-01        734.574431"
      ]
     },
     "execution_count": 16,
     "metadata": {},
     "output_type": "execute_result"
    }
   ],
   "source": [
    "df_exportaciones.head()"
   ]
  },
  {
   "cell_type": "code",
   "execution_count": 18,
   "id": "f7c40b5b-dde9-41e1-a8fe-f4dadb8c765b",
   "metadata": {},
   "outputs": [
    {
     "name": "stdout",
     "output_type": "stream",
     "text": [
      "<class 'pandas.core.frame.DataFrame'>\n",
      "RangeIndex: 100 entries, 0 to 99\n",
      "Data columns (total 2 columns):\n",
      " #   Column            Non-Null Count  Dtype  \n",
      "---  ------            --------------  -----  \n",
      " 0   date_from         100 non-null    object \n",
      " 1   millones_dolares  100 non-null    float64\n",
      "dtypes: float64(1), object(1)\n",
      "memory usage: 1.7+ KB\n"
     ]
    }
   ],
   "source": [
    "df_exportaciones.info()"
   ]
  }
 ],
 "metadata": {
  "kernelspec": {
   "display_name": "Python 3 (ipykernel)",
   "language": "python",
   "name": "python3"
  },
  "language_info": {
   "codemirror_mode": {
    "name": "ipython",
    "version": 3
   },
   "file_extension": ".py",
   "mimetype": "text/x-python",
   "name": "python",
   "nbconvert_exporter": "python",
   "pygments_lexer": "ipython3",
   "version": "3.10.9"
  }
 },
 "nbformat": 4,
 "nbformat_minor": 5
}
